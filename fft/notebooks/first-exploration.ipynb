{
 "cells": [
  {
   "cell_type": "code",
   "execution_count": 1,
   "id": "a53e6f82-fcc7-4e53-91b5-8b95be97e7bc",
   "metadata": {
    "scrolled": true
   },
   "outputs": [
    {
     "data": {
      "text/html": [
       "<pre style=\"white-space:pre;overflow-x:auto;line-height:normal;font-family:Menlo,'DejaVu Sans Mono',consolas,'Courier New',monospace\"><span style=\"color: #7fbfbf; text-decoration-color: #7fbfbf\">[04/30/25 14:35:37] </span><span style=\"color: #000080; text-decoration-color: #000080\">INFO    </span> Using <span style=\"color: #008000; text-decoration-color: #008000\">'C:\\Users\\Ravindu\\Documents\\My </span>                                  <span style=\"color: #7f7f7f; text-decoration-color: #7f7f7f\">__init__.py:270</span>\n",
       "<span style=\"color: #7fbfbf; text-decoration-color: #7fbfbf\">                    </span>         <span style=\"color: #008000; text-decoration-color: #008000\">Projects\\slm-fine-tune\\venv-slm-fine-tune\\Lib\\site-packages\\kedro\\fram</span> <span style=\"color: #7f7f7f; text-decoration-color: #7f7f7f\">               </span>\n",
       "<span style=\"color: #7fbfbf; text-decoration-color: #7fbfbf\">                    </span>         <span style=\"color: #008000; text-decoration-color: #008000\">ework\\project\\rich_logging.yml'</span> as logging configuration.              <span style=\"color: #7f7f7f; text-decoration-color: #7f7f7f\">               </span>\n",
       "</pre>\n"
      ],
      "text/plain": [
       "\u001b[2;36m[04/30/25 14:35:37]\u001b[0m\u001b[2;36m \u001b[0m\u001b[34mINFO    \u001b[0m Using \u001b[32m'C:\\Users\\Ravindu\\Documents\\My \u001b[0m                                  \u001b[2m__init__.py\u001b[0m\u001b[2m:\u001b[0m\u001b[2m270\u001b[0m\n",
       "\u001b[2;36m                    \u001b[0m         \u001b[32mProjects\\slm-fine-tune\\venv-slm-fine-tune\\Lib\\site-packages\\kedro\\fram\u001b[0m \u001b[2m               \u001b[0m\n",
       "\u001b[2;36m                    \u001b[0m         \u001b[32mework\\project\\rich_logging.yml'\u001b[0m as logging configuration.              \u001b[2m               \u001b[0m\n"
      ]
     },
     "metadata": {},
     "output_type": "display_data"
    },
    {
     "data": {
      "text/html": [
       "<pre style=\"white-space:pre;overflow-x:auto;line-height:normal;font-family:Menlo,'DejaVu Sans Mono',consolas,'Courier New',monospace\"><span style=\"color: #7fbfbf; text-decoration-color: #7fbfbf\">                    </span><span style=\"color: #000080; text-decoration-color: #000080\">INFO    </span> Registered line magic <span style=\"color: #008000; text-decoration-color: #008000\">'%reload_kedro'</span>                                   <span style=\"color: #7f7f7f; text-decoration-color: #7f7f7f\">__init__.py:63</span>\n",
       "</pre>\n"
      ],
      "text/plain": [
       "\u001b[2;36m                   \u001b[0m\u001b[2;36m \u001b[0m\u001b[34mINFO    \u001b[0m Registered line magic \u001b[32m'%reload_kedro'\u001b[0m                                   \u001b[2m__init__.py\u001b[0m\u001b[2m:\u001b[0m\u001b[2m63\u001b[0m\n"
      ]
     },
     "metadata": {},
     "output_type": "display_data"
    },
    {
     "data": {
      "text/html": [
       "<pre style=\"white-space:pre;overflow-x:auto;line-height:normal;font-family:Menlo,'DejaVu Sans Mono',consolas,'Courier New',monospace\"><span style=\"color: #7fbfbf; text-decoration-color: #7fbfbf\">                    </span><span style=\"color: #000080; text-decoration-color: #000080\">INFO    </span> Registered line magic <span style=\"color: #008000; text-decoration-color: #008000\">'%load_node'</span>                                      <span style=\"color: #7f7f7f; text-decoration-color: #7f7f7f\">__init__.py:65</span>\n",
       "</pre>\n"
      ],
      "text/plain": [
       "\u001b[2;36m                   \u001b[0m\u001b[2;36m \u001b[0m\u001b[34mINFO    \u001b[0m Registered line magic \u001b[32m'%load_node'\u001b[0m                                      \u001b[2m__init__.py\u001b[0m\u001b[2m:\u001b[0m\u001b[2m65\u001b[0m\n"
      ]
     },
     "metadata": {},
     "output_type": "display_data"
    },
    {
     "data": {
      "text/html": [
       "<pre style=\"white-space:pre;overflow-x:auto;line-height:normal;font-family:Menlo,'DejaVu Sans Mono',consolas,'Courier New',monospace\"><span style=\"color: #7fbfbf; text-decoration-color: #7fbfbf\">                    </span><span style=\"color: #000080; text-decoration-color: #000080\">INFO    </span> Resolved project path as: C:\\Users\\Ravindu\\Documents\\My                <span style=\"color: #7f7f7f; text-decoration-color: #7f7f7f\">__init__.py:180</span>\n",
       "<span style=\"color: #7fbfbf; text-decoration-color: #7fbfbf\">                    </span>         Projects\\slm-fine-tune\\fft.                                            <span style=\"color: #7f7f7f; text-decoration-color: #7f7f7f\">               </span>\n",
       "<span style=\"color: #7fbfbf; text-decoration-color: #7fbfbf\">                    </span>         To set a different path, run <span style=\"color: #008000; text-decoration-color: #008000\">'%reload_kedro &lt;project_root&gt;'</span>            <span style=\"color: #7f7f7f; text-decoration-color: #7f7f7f\">               </span>\n",
       "</pre>\n"
      ],
      "text/plain": [
       "\u001b[2;36m                   \u001b[0m\u001b[2;36m \u001b[0m\u001b[34mINFO    \u001b[0m Resolved project path as: C:\\Users\\Ravindu\\Documents\\My                \u001b[2m__init__.py\u001b[0m\u001b[2m:\u001b[0m\u001b[2m180\u001b[0m\n",
       "\u001b[2;36m                    \u001b[0m         Projects\\slm-fine-tune\\fft.                                            \u001b[2m               \u001b[0m\n",
       "\u001b[2;36m                    \u001b[0m         To set a different path, run \u001b[32m'%reload_kedro \u001b[0m\u001b[32m<\u001b[0m\u001b[32mproject_root\u001b[0m\u001b[32m>\u001b[0m\u001b[32m'\u001b[0m            \u001b[2m               \u001b[0m\n"
      ]
     },
     "metadata": {},
     "output_type": "display_data"
    },
    {
     "data": {
      "text/html": [
       "<pre style=\"white-space:pre;overflow-x:auto;line-height:normal;font-family:Menlo,'DejaVu Sans Mono',consolas,'Courier New',monospace\"><span style=\"color: #7fbfbf; text-decoration-color: #7fbfbf\">                    </span><span style=\"color: #808000; text-decoration-color: #808000\">WARNING </span> C:\\Users\\Ravindu\\Documents\\My                                          <a href=\"file://C:\\Users\\Ravindu\\AppData\\Local\\Programs\\Python\\Python312\\Lib\\warnings.py\" target=\"_blank\"><span style=\"color: #7f7f7f; text-decoration-color: #7f7f7f\">warnings.py</span></a><span style=\"color: #7f7f7f; text-decoration-color: #7f7f7f\">:</span><a href=\"file://C:\\Users\\Ravindu\\AppData\\Local\\Programs\\Python\\Python312\\Lib\\warnings.py#112\" target=\"_blank\"><span style=\"color: #7f7f7f; text-decoration-color: #7f7f7f\">112</span></a>\n",
       "<span style=\"color: #7fbfbf; text-decoration-color: #7fbfbf\">                    </span>         Projects\\slm-fine-tune\\venv-slm-fine-tune\\Lib\\site-packages\\kedro\\io\\d <span style=\"color: #7f7f7f; text-decoration-color: #7f7f7f\">               </span>\n",
       "<span style=\"color: #7fbfbf; text-decoration-color: #7fbfbf\">                    </span>         ata_catalog.py:<span style=\"color: #008080; text-decoration-color: #008080; font-weight: bold\">165</span>: KedroDeprecationWarning: `DataCatalog` has been    <span style=\"color: #7f7f7f; text-decoration-color: #7f7f7f\">               </span>\n",
       "<span style=\"color: #7fbfbf; text-decoration-color: #7fbfbf\">                    </span>         deprecated and will be replaced by `KedroDataCatalog`, in Kedro        <span style=\"color: #7f7f7f; text-decoration-color: #7f7f7f\">               </span>\n",
       "<span style=\"color: #7fbfbf; text-decoration-color: #7fbfbf\">                    </span>         <span style=\"color: #008080; text-decoration-color: #008080; font-weight: bold\">1.0</span>.<span style=\"color: #008080; text-decoration-color: #008080; font-weight: bold\">0.</span>Currently some `KedroDataCatalog` APIs have been retained for    <span style=\"color: #7f7f7f; text-decoration-color: #7f7f7f\">               </span>\n",
       "<span style=\"color: #7fbfbf; text-decoration-color: #7fbfbf\">                    </span>         compatibility with `DataCatalog`, including the `datasets` property    <span style=\"color: #7f7f7f; text-decoration-color: #7f7f7f\">               </span>\n",
       "<span style=\"color: #7fbfbf; text-decoration-color: #7fbfbf\">                    </span>         and the `get_datasets`, `_get_datasets`, `add`,` list`,                <span style=\"color: #7f7f7f; text-decoration-color: #7f7f7f\">               </span>\n",
       "<span style=\"color: #7fbfbf; text-decoration-color: #7fbfbf\">                    </span>         `add_feed_dict`, and `shallow_copy` methods. These will be removed or  <span style=\"color: #7f7f7f; text-decoration-color: #7f7f7f\">               </span>\n",
       "<span style=\"color: #7fbfbf; text-decoration-color: #7fbfbf\">                    </span>         replaced with updated alternatives in Kedro <span style=\"color: #008080; text-decoration-color: #008080; font-weight: bold\">1.0</span>.<span style=\"color: #008080; text-decoration-color: #008080; font-weight: bold\">0</span>. For more details,   <span style=\"color: #7f7f7f; text-decoration-color: #7f7f7f\">               </span>\n",
       "<span style=\"color: #7fbfbf; text-decoration-color: #7fbfbf\">                    </span>         refer to the documentation:                                            <span style=\"color: #7f7f7f; text-decoration-color: #7f7f7f\">               </span>\n",
       "<span style=\"color: #7fbfbf; text-decoration-color: #7fbfbf\">                    </span>         <span style=\"color: #0000ff; text-decoration-color: #0000ff; text-decoration: underline\">https://docs.kedro.org/en/stable/data/index.html#kedrodatacatalog-expe</span> <span style=\"color: #7f7f7f; text-decoration-color: #7f7f7f\">               </span>\n",
       "<span style=\"color: #7fbfbf; text-decoration-color: #7fbfbf\">                    </span>         <span style=\"color: #0000ff; text-decoration-color: #0000ff; text-decoration: underline\">rimental-feature</span>                                                       <span style=\"color: #7f7f7f; text-decoration-color: #7f7f7f\">               </span>\n",
       "<span style=\"color: #7fbfbf; text-decoration-color: #7fbfbf\">                    </span>           <span style=\"color: #800080; text-decoration-color: #800080; font-weight: bold\">warnings.warn</span><span style=\"font-weight: bold\">(</span>                                                       <span style=\"color: #7f7f7f; text-decoration-color: #7f7f7f\">               </span>\n",
       "<span style=\"color: #7fbfbf; text-decoration-color: #7fbfbf\">                    </span>                                                                                <span style=\"color: #7f7f7f; text-decoration-color: #7f7f7f\">               </span>\n",
       "</pre>\n"
      ],
      "text/plain": [
       "\u001b[2;36m                   \u001b[0m\u001b[2;36m \u001b[0m\u001b[33mWARNING \u001b[0m C:\\Users\\Ravindu\\Documents\\My                                          \u001b]8;id=860535;file://C:\\Users\\Ravindu\\AppData\\Local\\Programs\\Python\\Python312\\Lib\\warnings.py\u001b\\\u001b[2mwarnings.py\u001b[0m\u001b]8;;\u001b\\\u001b[2m:\u001b[0m\u001b]8;id=119407;file://C:\\Users\\Ravindu\\AppData\\Local\\Programs\\Python\\Python312\\Lib\\warnings.py#112\u001b\\\u001b[2m112\u001b[0m\u001b]8;;\u001b\\\n",
       "\u001b[2;36m                    \u001b[0m         Projects\\slm-fine-tune\\venv-slm-fine-tune\\Lib\\site-packages\\kedro\\io\\d \u001b[2m               \u001b[0m\n",
       "\u001b[2;36m                    \u001b[0m         ata_catalog.py:\u001b[1;36m165\u001b[0m: KedroDeprecationWarning: `DataCatalog` has been    \u001b[2m               \u001b[0m\n",
       "\u001b[2;36m                    \u001b[0m         deprecated and will be replaced by `KedroDataCatalog`, in Kedro        \u001b[2m               \u001b[0m\n",
       "\u001b[2;36m                    \u001b[0m         \u001b[1;36m1.0\u001b[0m.\u001b[1;36m0.\u001b[0mCurrently some `KedroDataCatalog` APIs have been retained for    \u001b[2m               \u001b[0m\n",
       "\u001b[2;36m                    \u001b[0m         compatibility with `DataCatalog`, including the `datasets` property    \u001b[2m               \u001b[0m\n",
       "\u001b[2;36m                    \u001b[0m         and the `get_datasets`, `_get_datasets`, `add`,` list`,                \u001b[2m               \u001b[0m\n",
       "\u001b[2;36m                    \u001b[0m         `add_feed_dict`, and `shallow_copy` methods. These will be removed or  \u001b[2m               \u001b[0m\n",
       "\u001b[2;36m                    \u001b[0m         replaced with updated alternatives in Kedro \u001b[1;36m1.0\u001b[0m.\u001b[1;36m0\u001b[0m. For more details,   \u001b[2m               \u001b[0m\n",
       "\u001b[2;36m                    \u001b[0m         refer to the documentation:                                            \u001b[2m               \u001b[0m\n",
       "\u001b[2;36m                    \u001b[0m         \u001b[4;94mhttps://docs.kedro.org/en/stable/data/index.html#kedrodatacatalog-expe\u001b[0m \u001b[2m               \u001b[0m\n",
       "\u001b[2;36m                    \u001b[0m         \u001b[4;94mrimental-feature\u001b[0m                                                       \u001b[2m               \u001b[0m\n",
       "\u001b[2;36m                    \u001b[0m           \u001b[1;35mwarnings.warn\u001b[0m\u001b[1m(\u001b[0m                                                       \u001b[2m               \u001b[0m\n",
       "\u001b[2;36m                    \u001b[0m                                                                                \u001b[2m               \u001b[0m\n"
      ]
     },
     "metadata": {},
     "output_type": "display_data"
    },
    {
     "data": {
      "text/html": [
       "<pre style=\"white-space:pre;overflow-x:auto;line-height:normal;font-family:Menlo,'DejaVu Sans Mono',consolas,'Courier New',monospace\"><span style=\"color: #7fbfbf; text-decoration-color: #7fbfbf\">[04/30/25 14:35:41] </span><span style=\"color: #808000; text-decoration-color: #808000\">WARNING </span> C:\\Users\\Ravindu\\Documents\\My                                          <a href=\"file://C:\\Users\\Ravindu\\AppData\\Local\\Programs\\Python\\Python312\\Lib\\warnings.py\" target=\"_blank\"><span style=\"color: #7f7f7f; text-decoration-color: #7f7f7f\">warnings.py</span></a><span style=\"color: #7f7f7f; text-decoration-color: #7f7f7f\">:</span><a href=\"file://C:\\Users\\Ravindu\\AppData\\Local\\Programs\\Python\\Python312\\Lib\\warnings.py#112\" target=\"_blank\"><span style=\"color: #7f7f7f; text-decoration-color: #7f7f7f\">112</span></a>\n",
       "<span style=\"color: #7fbfbf; text-decoration-color: #7fbfbf\">                    </span>         Projects\\slm-fine-tune\\venv-slm-fine-tune\\Lib\\site-packages\\kedro\\io\\d <span style=\"color: #7f7f7f; text-decoration-color: #7f7f7f\">               </span>\n",
       "<span style=\"color: #7fbfbf; text-decoration-color: #7fbfbf\">                    </span>         ata_catalog.py:<span style=\"color: #008080; text-decoration-color: #008080; font-weight: bold\">165</span>: KedroDeprecationWarning: `DataCatalog` has been    <span style=\"color: #7f7f7f; text-decoration-color: #7f7f7f\">               </span>\n",
       "<span style=\"color: #7fbfbf; text-decoration-color: #7fbfbf\">                    </span>         deprecated and will be replaced by `KedroDataCatalog`, in Kedro        <span style=\"color: #7f7f7f; text-decoration-color: #7f7f7f\">               </span>\n",
       "<span style=\"color: #7fbfbf; text-decoration-color: #7fbfbf\">                    </span>         <span style=\"color: #008080; text-decoration-color: #008080; font-weight: bold\">1.0</span>.<span style=\"color: #008080; text-decoration-color: #008080; font-weight: bold\">0.</span>Currently some `KedroDataCatalog` APIs have been retained for    <span style=\"color: #7f7f7f; text-decoration-color: #7f7f7f\">               </span>\n",
       "<span style=\"color: #7fbfbf; text-decoration-color: #7fbfbf\">                    </span>         compatibility with `DataCatalog`, including the `datasets` property    <span style=\"color: #7f7f7f; text-decoration-color: #7f7f7f\">               </span>\n",
       "<span style=\"color: #7fbfbf; text-decoration-color: #7fbfbf\">                    </span>         and the `get_datasets`, `_get_datasets`, `add`,` list`,                <span style=\"color: #7f7f7f; text-decoration-color: #7f7f7f\">               </span>\n",
       "<span style=\"color: #7fbfbf; text-decoration-color: #7fbfbf\">                    </span>         `add_feed_dict`, and `shallow_copy` methods. These will be removed or  <span style=\"color: #7f7f7f; text-decoration-color: #7f7f7f\">               </span>\n",
       "<span style=\"color: #7fbfbf; text-decoration-color: #7fbfbf\">                    </span>         replaced with updated alternatives in Kedro <span style=\"color: #008080; text-decoration-color: #008080; font-weight: bold\">1.0</span>.<span style=\"color: #008080; text-decoration-color: #008080; font-weight: bold\">0</span>. For more details,   <span style=\"color: #7f7f7f; text-decoration-color: #7f7f7f\">               </span>\n",
       "<span style=\"color: #7fbfbf; text-decoration-color: #7fbfbf\">                    </span>         refer to the documentation:                                            <span style=\"color: #7f7f7f; text-decoration-color: #7f7f7f\">               </span>\n",
       "<span style=\"color: #7fbfbf; text-decoration-color: #7fbfbf\">                    </span>         <span style=\"color: #0000ff; text-decoration-color: #0000ff; text-decoration: underline\">https://docs.kedro.org/en/stable/data/index.html#kedrodatacatalog-expe</span> <span style=\"color: #7f7f7f; text-decoration-color: #7f7f7f\">               </span>\n",
       "<span style=\"color: #7fbfbf; text-decoration-color: #7fbfbf\">                    </span>         <span style=\"color: #0000ff; text-decoration-color: #0000ff; text-decoration: underline\">rimental-feature</span>                                                       <span style=\"color: #7f7f7f; text-decoration-color: #7f7f7f\">               </span>\n",
       "<span style=\"color: #7fbfbf; text-decoration-color: #7fbfbf\">                    </span>           <span style=\"color: #800080; text-decoration-color: #800080; font-weight: bold\">warnings.warn</span><span style=\"font-weight: bold\">(</span>                                                       <span style=\"color: #7f7f7f; text-decoration-color: #7f7f7f\">               </span>\n",
       "<span style=\"color: #7fbfbf; text-decoration-color: #7fbfbf\">                    </span>                                                                                <span style=\"color: #7f7f7f; text-decoration-color: #7f7f7f\">               </span>\n",
       "</pre>\n"
      ],
      "text/plain": [
       "\u001b[2;36m[04/30/25 14:35:41]\u001b[0m\u001b[2;36m \u001b[0m\u001b[33mWARNING \u001b[0m C:\\Users\\Ravindu\\Documents\\My                                          \u001b]8;id=596610;file://C:\\Users\\Ravindu\\AppData\\Local\\Programs\\Python\\Python312\\Lib\\warnings.py\u001b\\\u001b[2mwarnings.py\u001b[0m\u001b]8;;\u001b\\\u001b[2m:\u001b[0m\u001b]8;id=498178;file://C:\\Users\\Ravindu\\AppData\\Local\\Programs\\Python\\Python312\\Lib\\warnings.py#112\u001b\\\u001b[2m112\u001b[0m\u001b]8;;\u001b\\\n",
       "\u001b[2;36m                    \u001b[0m         Projects\\slm-fine-tune\\venv-slm-fine-tune\\Lib\\site-packages\\kedro\\io\\d \u001b[2m               \u001b[0m\n",
       "\u001b[2;36m                    \u001b[0m         ata_catalog.py:\u001b[1;36m165\u001b[0m: KedroDeprecationWarning: `DataCatalog` has been    \u001b[2m               \u001b[0m\n",
       "\u001b[2;36m                    \u001b[0m         deprecated and will be replaced by `KedroDataCatalog`, in Kedro        \u001b[2m               \u001b[0m\n",
       "\u001b[2;36m                    \u001b[0m         \u001b[1;36m1.0\u001b[0m.\u001b[1;36m0.\u001b[0mCurrently some `KedroDataCatalog` APIs have been retained for    \u001b[2m               \u001b[0m\n",
       "\u001b[2;36m                    \u001b[0m         compatibility with `DataCatalog`, including the `datasets` property    \u001b[2m               \u001b[0m\n",
       "\u001b[2;36m                    \u001b[0m         and the `get_datasets`, `_get_datasets`, `add`,` list`,                \u001b[2m               \u001b[0m\n",
       "\u001b[2;36m                    \u001b[0m         `add_feed_dict`, and `shallow_copy` methods. These will be removed or  \u001b[2m               \u001b[0m\n",
       "\u001b[2;36m                    \u001b[0m         replaced with updated alternatives in Kedro \u001b[1;36m1.0\u001b[0m.\u001b[1;36m0\u001b[0m. For more details,   \u001b[2m               \u001b[0m\n",
       "\u001b[2;36m                    \u001b[0m         refer to the documentation:                                            \u001b[2m               \u001b[0m\n",
       "\u001b[2;36m                    \u001b[0m         \u001b[4;94mhttps://docs.kedro.org/en/stable/data/index.html#kedrodatacatalog-expe\u001b[0m \u001b[2m               \u001b[0m\n",
       "\u001b[2;36m                    \u001b[0m         \u001b[4;94mrimental-feature\u001b[0m                                                       \u001b[2m               \u001b[0m\n",
       "\u001b[2;36m                    \u001b[0m           \u001b[1;35mwarnings.warn\u001b[0m\u001b[1m(\u001b[0m                                                       \u001b[2m               \u001b[0m\n",
       "\u001b[2;36m                    \u001b[0m                                                                                \u001b[2m               \u001b[0m\n"
      ]
     },
     "metadata": {},
     "output_type": "display_data"
    },
    {
     "data": {
      "text/html": [
       "<pre style=\"white-space:pre;overflow-x:auto;line-height:normal;font-family:Menlo,'DejaVu Sans Mono',consolas,'Courier New',monospace\"><span style=\"color: #7fbfbf; text-decoration-color: #7fbfbf\">                    </span><span style=\"color: #000080; text-decoration-color: #000080\">INFO    </span> Kedro is sending anonymous usage data with the sole purpose of improving <span style=\"color: #7f7f7f; text-decoration-color: #7f7f7f\">plugin.py:233</span>\n",
       "<span style=\"color: #7fbfbf; text-decoration-color: #7fbfbf\">                    </span>         the product. No personal data or IP addresses are stored on our side. If <span style=\"color: #7f7f7f; text-decoration-color: #7f7f7f\">             </span>\n",
       "<span style=\"color: #7fbfbf; text-decoration-color: #7fbfbf\">                    </span>         you want to opt out, set the `KEDRO_DISABLE_TELEMETRY` or `DO_NOT_TRACK` <span style=\"color: #7f7f7f; text-decoration-color: #7f7f7f\">             </span>\n",
       "<span style=\"color: #7fbfbf; text-decoration-color: #7fbfbf\">                    </span>         environment variables, or create a `.telemetry` file in the current      <span style=\"color: #7f7f7f; text-decoration-color: #7f7f7f\">             </span>\n",
       "<span style=\"color: #7fbfbf; text-decoration-color: #7fbfbf\">                    </span>         working directory with the contents `consent: false`. Read more at       <span style=\"color: #7f7f7f; text-decoration-color: #7f7f7f\">             </span>\n",
       "<span style=\"color: #7fbfbf; text-decoration-color: #7fbfbf\">                    </span>         <span style=\"color: #0000ff; text-decoration-color: #0000ff; text-decoration: underline\">https://docs.kedro.org/en/stable/configuration/telemetry.html</span>            <span style=\"color: #7f7f7f; text-decoration-color: #7f7f7f\">             </span>\n",
       "</pre>\n"
      ],
      "text/plain": [
       "\u001b[2;36m                   \u001b[0m\u001b[2;36m \u001b[0m\u001b[34mINFO    \u001b[0m Kedro is sending anonymous usage data with the sole purpose of improving \u001b[2mplugin.py\u001b[0m\u001b[2m:\u001b[0m\u001b[2m233\u001b[0m\n",
       "\u001b[2;36m                    \u001b[0m         the product. No personal data or IP addresses are stored on our side. If \u001b[2m             \u001b[0m\n",
       "\u001b[2;36m                    \u001b[0m         you want to opt out, set the `KEDRO_DISABLE_TELEMETRY` or `DO_NOT_TRACK` \u001b[2m             \u001b[0m\n",
       "\u001b[2;36m                    \u001b[0m         environment variables, or create a `.telemetry` file in the current      \u001b[2m             \u001b[0m\n",
       "\u001b[2;36m                    \u001b[0m         working directory with the contents `consent: false`. Read more at       \u001b[2m             \u001b[0m\n",
       "\u001b[2;36m                    \u001b[0m         \u001b[4;94mhttps://docs.kedro.org/en/stable/configuration/telemetry.html\u001b[0m            \u001b[2m             \u001b[0m\n"
      ]
     },
     "metadata": {},
     "output_type": "display_data"
    },
    {
     "data": {
      "text/html": [
       "<pre style=\"white-space:pre;overflow-x:auto;line-height:normal;font-family:Menlo,'DejaVu Sans Mono',consolas,'Courier New',monospace\"><span style=\"color: #7fbfbf; text-decoration-color: #7fbfbf\">[04/30/25 14:35:42] </span><span style=\"color: #000080; text-decoration-color: #000080\">INFO    </span> Kedro project fft                                                      <span style=\"color: #7f7f7f; text-decoration-color: #7f7f7f\">__init__.py:146</span>\n",
       "</pre>\n"
      ],
      "text/plain": [
       "\u001b[2;36m[04/30/25 14:35:42]\u001b[0m\u001b[2;36m \u001b[0m\u001b[34mINFO    \u001b[0m Kedro project fft                                                      \u001b[2m__init__.py\u001b[0m\u001b[2m:\u001b[0m\u001b[2m146\u001b[0m\n"
      ]
     },
     "metadata": {},
     "output_type": "display_data"
    },
    {
     "data": {
      "text/html": [
       "<pre style=\"white-space:pre;overflow-x:auto;line-height:normal;font-family:Menlo,'DejaVu Sans Mono',consolas,'Courier New',monospace\"><span style=\"color: #7fbfbf; text-decoration-color: #7fbfbf\">                    </span><span style=\"color: #000080; text-decoration-color: #000080\">INFO    </span> Defined global variable <span style=\"color: #008000; text-decoration-color: #008000\">'context'</span>, <span style=\"color: #008000; text-decoration-color: #008000\">'session'</span>, <span style=\"color: #008000; text-decoration-color: #008000\">'catalog'</span> and            <span style=\"color: #7f7f7f; text-decoration-color: #7f7f7f\">__init__.py:147</span>\n",
       "<span style=\"color: #7fbfbf; text-decoration-color: #7fbfbf\">                    </span>         <span style=\"color: #008000; text-decoration-color: #008000\">'pipelines'</span>                                                            <span style=\"color: #7f7f7f; text-decoration-color: #7f7f7f\">               </span>\n",
       "</pre>\n"
      ],
      "text/plain": [
       "\u001b[2;36m                   \u001b[0m\u001b[2;36m \u001b[0m\u001b[34mINFO    \u001b[0m Defined global variable \u001b[32m'context'\u001b[0m, \u001b[32m'session'\u001b[0m, \u001b[32m'catalog'\u001b[0m and            \u001b[2m__init__.py\u001b[0m\u001b[2m:\u001b[0m\u001b[2m147\u001b[0m\n",
       "\u001b[2;36m                    \u001b[0m         \u001b[32m'pipelines'\u001b[0m                                                            \u001b[2m               \u001b[0m\n"
      ]
     },
     "metadata": {},
     "output_type": "display_data"
    },
    {
     "data": {
      "text/html": [
       "<pre style=\"white-space:pre;overflow-x:auto;line-height:normal;font-family:Menlo,'DejaVu Sans Mono',consolas,'Courier New',monospace\"><span style=\"color: #7fbfbf; text-decoration-color: #7fbfbf\">[04/30/25 14:35:43] </span><span style=\"color: #000080; text-decoration-color: #000080\">INFO    </span> Registered line magic <span style=\"color: #008000; text-decoration-color: #008000\">'run_viz'</span>                                        <span style=\"color: #7f7f7f; text-decoration-color: #7f7f7f\">__init__.py:153</span>\n",
       "</pre>\n"
      ],
      "text/plain": [
       "\u001b[2;36m[04/30/25 14:35:43]\u001b[0m\u001b[2;36m \u001b[0m\u001b[34mINFO    \u001b[0m Registered line magic \u001b[32m'run_viz'\u001b[0m                                        \u001b[2m__init__.py\u001b[0m\u001b[2m:\u001b[0m\u001b[2m153\u001b[0m\n"
      ]
     },
     "metadata": {},
     "output_type": "display_data"
    }
   ],
   "source": [
    "%load_ext kedro.ipython"
   ]
  },
  {
   "cell_type": "code",
   "execution_count": 2,
   "id": "7d7230de-fb0a-4c1c-a1df-dba022521e7c",
   "metadata": {
    "scrolled": true
   },
   "outputs": [
    {
     "data": {
      "text/html": [
       "<pre style=\"white-space:pre;overflow-x:auto;line-height:normal;font-family:Menlo,'DejaVu Sans Mono',consolas,'Courier New',monospace\"><span style=\"color: #7fbfbf; text-decoration-color: #7fbfbf\">[04/30/25 14:36:01] </span><span style=\"color: #000080; text-decoration-color: #000080\">INFO    </span> Registered line magic <span style=\"color: #008000; text-decoration-color: #008000\">'%reload_kedro'</span>                                   <span style=\"color: #7f7f7f; text-decoration-color: #7f7f7f\">__init__.py:63</span>\n",
       "</pre>\n"
      ],
      "text/plain": [
       "\u001b[2;36m[04/30/25 14:36:01]\u001b[0m\u001b[2;36m \u001b[0m\u001b[34mINFO    \u001b[0m Registered line magic \u001b[32m'%reload_kedro'\u001b[0m                                   \u001b[2m__init__.py\u001b[0m\u001b[2m:\u001b[0m\u001b[2m63\u001b[0m\n"
      ]
     },
     "metadata": {},
     "output_type": "display_data"
    },
    {
     "data": {
      "text/html": [
       "<pre style=\"white-space:pre;overflow-x:auto;line-height:normal;font-family:Menlo,'DejaVu Sans Mono',consolas,'Courier New',monospace\"><span style=\"color: #7fbfbf; text-decoration-color: #7fbfbf\">                    </span><span style=\"color: #000080; text-decoration-color: #000080\">INFO    </span> Registered line magic <span style=\"color: #008000; text-decoration-color: #008000\">'%load_node'</span>                                      <span style=\"color: #7f7f7f; text-decoration-color: #7f7f7f\">__init__.py:65</span>\n",
       "</pre>\n"
      ],
      "text/plain": [
       "\u001b[2;36m                   \u001b[0m\u001b[2;36m \u001b[0m\u001b[34mINFO    \u001b[0m Registered line magic \u001b[32m'%load_node'\u001b[0m                                      \u001b[2m__init__.py\u001b[0m\u001b[2m:\u001b[0m\u001b[2m65\u001b[0m\n"
      ]
     },
     "metadata": {},
     "output_type": "display_data"
    },
    {
     "data": {
      "text/html": [
       "<pre style=\"white-space:pre;overflow-x:auto;line-height:normal;font-family:Menlo,'DejaVu Sans Mono',consolas,'Courier New',monospace\"><span style=\"color: #7fbfbf; text-decoration-color: #7fbfbf\">                    </span><span style=\"color: #000080; text-decoration-color: #000080\">INFO    </span> Resolved project path as: C:\\Users\\Ravindu\\Documents\\My                <span style=\"color: #7f7f7f; text-decoration-color: #7f7f7f\">__init__.py:180</span>\n",
       "<span style=\"color: #7fbfbf; text-decoration-color: #7fbfbf\">                    </span>         Projects\\slm-fine-tune\\fft.                                            <span style=\"color: #7f7f7f; text-decoration-color: #7f7f7f\">               </span>\n",
       "<span style=\"color: #7fbfbf; text-decoration-color: #7fbfbf\">                    </span>         To set a different path, run <span style=\"color: #008000; text-decoration-color: #008000\">'%reload_kedro &lt;project_root&gt;'</span>            <span style=\"color: #7f7f7f; text-decoration-color: #7f7f7f\">               </span>\n",
       "</pre>\n"
      ],
      "text/plain": [
       "\u001b[2;36m                   \u001b[0m\u001b[2;36m \u001b[0m\u001b[34mINFO    \u001b[0m Resolved project path as: C:\\Users\\Ravindu\\Documents\\My                \u001b[2m__init__.py\u001b[0m\u001b[2m:\u001b[0m\u001b[2m180\u001b[0m\n",
       "\u001b[2;36m                    \u001b[0m         Projects\\slm-fine-tune\\fft.                                            \u001b[2m               \u001b[0m\n",
       "\u001b[2;36m                    \u001b[0m         To set a different path, run \u001b[32m'%reload_kedro \u001b[0m\u001b[32m<\u001b[0m\u001b[32mproject_root\u001b[0m\u001b[32m>\u001b[0m\u001b[32m'\u001b[0m            \u001b[2m               \u001b[0m\n"
      ]
     },
     "metadata": {},
     "output_type": "display_data"
    },
    {
     "data": {
      "text/html": [
       "<pre style=\"white-space:pre;overflow-x:auto;line-height:normal;font-family:Menlo,'DejaVu Sans Mono',consolas,'Courier New',monospace\"><span style=\"color: #7fbfbf; text-decoration-color: #7fbfbf\">[04/30/25 14:36:02] </span><span style=\"color: #000080; text-decoration-color: #000080\">INFO    </span> Kedro is sending anonymous usage data with the sole purpose of improving <span style=\"color: #7f7f7f; text-decoration-color: #7f7f7f\">plugin.py:233</span>\n",
       "<span style=\"color: #7fbfbf; text-decoration-color: #7fbfbf\">                    </span>         the product. No personal data or IP addresses are stored on our side. If <span style=\"color: #7f7f7f; text-decoration-color: #7f7f7f\">             </span>\n",
       "<span style=\"color: #7fbfbf; text-decoration-color: #7fbfbf\">                    </span>         you want to opt out, set the `KEDRO_DISABLE_TELEMETRY` or `DO_NOT_TRACK` <span style=\"color: #7f7f7f; text-decoration-color: #7f7f7f\">             </span>\n",
       "<span style=\"color: #7fbfbf; text-decoration-color: #7fbfbf\">                    </span>         environment variables, or create a `.telemetry` file in the current      <span style=\"color: #7f7f7f; text-decoration-color: #7f7f7f\">             </span>\n",
       "<span style=\"color: #7fbfbf; text-decoration-color: #7fbfbf\">                    </span>         working directory with the contents `consent: false`. Read more at       <span style=\"color: #7f7f7f; text-decoration-color: #7f7f7f\">             </span>\n",
       "<span style=\"color: #7fbfbf; text-decoration-color: #7fbfbf\">                    </span>         <span style=\"color: #0000ff; text-decoration-color: #0000ff; text-decoration: underline\">https://docs.kedro.org/en/stable/configuration/telemetry.html</span>            <span style=\"color: #7f7f7f; text-decoration-color: #7f7f7f\">             </span>\n",
       "</pre>\n"
      ],
      "text/plain": [
       "\u001b[2;36m[04/30/25 14:36:02]\u001b[0m\u001b[2;36m \u001b[0m\u001b[34mINFO    \u001b[0m Kedro is sending anonymous usage data with the sole purpose of improving \u001b[2mplugin.py\u001b[0m\u001b[2m:\u001b[0m\u001b[2m233\u001b[0m\n",
       "\u001b[2;36m                    \u001b[0m         the product. No personal data or IP addresses are stored on our side. If \u001b[2m             \u001b[0m\n",
       "\u001b[2;36m                    \u001b[0m         you want to opt out, set the `KEDRO_DISABLE_TELEMETRY` or `DO_NOT_TRACK` \u001b[2m             \u001b[0m\n",
       "\u001b[2;36m                    \u001b[0m         environment variables, or create a `.telemetry` file in the current      \u001b[2m             \u001b[0m\n",
       "\u001b[2;36m                    \u001b[0m         working directory with the contents `consent: false`. Read more at       \u001b[2m             \u001b[0m\n",
       "\u001b[2;36m                    \u001b[0m         \u001b[4;94mhttps://docs.kedro.org/en/stable/configuration/telemetry.html\u001b[0m            \u001b[2m             \u001b[0m\n"
      ]
     },
     "metadata": {},
     "output_type": "display_data"
    },
    {
     "data": {
      "text/html": [
       "<pre style=\"white-space:pre;overflow-x:auto;line-height:normal;font-family:Menlo,'DejaVu Sans Mono',consolas,'Courier New',monospace\"><span style=\"color: #7fbfbf; text-decoration-color: #7fbfbf\">[04/30/25 14:36:03] </span><span style=\"color: #000080; text-decoration-color: #000080\">INFO    </span> Kedro project fft                                                      <span style=\"color: #7f7f7f; text-decoration-color: #7f7f7f\">__init__.py:146</span>\n",
       "</pre>\n"
      ],
      "text/plain": [
       "\u001b[2;36m[04/30/25 14:36:03]\u001b[0m\u001b[2;36m \u001b[0m\u001b[34mINFO    \u001b[0m Kedro project fft                                                      \u001b[2m__init__.py\u001b[0m\u001b[2m:\u001b[0m\u001b[2m146\u001b[0m\n"
      ]
     },
     "metadata": {},
     "output_type": "display_data"
    },
    {
     "data": {
      "text/html": [
       "<pre style=\"white-space:pre;overflow-x:auto;line-height:normal;font-family:Menlo,'DejaVu Sans Mono',consolas,'Courier New',monospace\"><span style=\"color: #7fbfbf; text-decoration-color: #7fbfbf\">                    </span><span style=\"color: #000080; text-decoration-color: #000080\">INFO    </span> Defined global variable <span style=\"color: #008000; text-decoration-color: #008000\">'context'</span>, <span style=\"color: #008000; text-decoration-color: #008000\">'session'</span>, <span style=\"color: #008000; text-decoration-color: #008000\">'catalog'</span> and            <span style=\"color: #7f7f7f; text-decoration-color: #7f7f7f\">__init__.py:147</span>\n",
       "<span style=\"color: #7fbfbf; text-decoration-color: #7fbfbf\">                    </span>         <span style=\"color: #008000; text-decoration-color: #008000\">'pipelines'</span>                                                            <span style=\"color: #7f7f7f; text-decoration-color: #7f7f7f\">               </span>\n",
       "</pre>\n"
      ],
      "text/plain": [
       "\u001b[2;36m                   \u001b[0m\u001b[2;36m \u001b[0m\u001b[34mINFO    \u001b[0m Defined global variable \u001b[32m'context'\u001b[0m, \u001b[32m'session'\u001b[0m, \u001b[32m'catalog'\u001b[0m and            \u001b[2m__init__.py\u001b[0m\u001b[2m:\u001b[0m\u001b[2m147\u001b[0m\n",
       "\u001b[2;36m                    \u001b[0m         \u001b[32m'pipelines'\u001b[0m                                                            \u001b[2m               \u001b[0m\n"
      ]
     },
     "metadata": {},
     "output_type": "display_data"
    },
    {
     "data": {
      "text/html": [
       "<pre style=\"white-space:pre;overflow-x:auto;line-height:normal;font-family:Menlo,'DejaVu Sans Mono',consolas,'Courier New',monospace\"><span style=\"color: #7fbfbf; text-decoration-color: #7fbfbf\">                    </span><span style=\"color: #000080; text-decoration-color: #000080\">INFO    </span> Registered line magic <span style=\"color: #008000; text-decoration-color: #008000\">'run_viz'</span>                                        <span style=\"color: #7f7f7f; text-decoration-color: #7f7f7f\">__init__.py:153</span>\n",
       "</pre>\n"
      ],
      "text/plain": [
       "\u001b[2;36m                   \u001b[0m\u001b[2;36m \u001b[0m\u001b[34mINFO    \u001b[0m Registered line magic \u001b[32m'run_viz'\u001b[0m                                        \u001b[2m__init__.py\u001b[0m\u001b[2m:\u001b[0m\u001b[2m153\u001b[0m\n"
      ]
     },
     "metadata": {},
     "output_type": "display_data"
    }
   ],
   "source": [
    "%reload_ext kedro.ipython"
   ]
  },
  {
   "cell_type": "code",
   "execution_count": null,
   "id": "cf0efcf2-d1b2-40bf-9c1c-dfce480ce715",
   "metadata": {},
   "outputs": [],
   "source": [
    "%reload_kedro"
   ]
  },
  {
   "cell_type": "code",
   "execution_count": 3,
   "id": "a95e6727-7971-499b-aae5-a776e3f05ac2",
   "metadata": {},
   "outputs": [
    {
     "data": {
      "text/html": [
       "<pre style=\"white-space:pre;overflow-x:auto;line-height:normal;font-family:Menlo,'DejaVu Sans Mono',consolas,'Courier New',monospace\"></pre>\n"
      ],
      "text/plain": []
     },
     "metadata": {},
     "output_type": "display_data"
    },
    {
     "data": {
      "text/plain": [
       "\n",
       "\u001b[1;35mKedroContext\u001b[0m\u001b[1m(\u001b[0m\n",
       "    \u001b[33mproject_path\u001b[0m=\u001b[1;35mWindowsPath\u001b[0m\u001b[1m(\u001b[0m\u001b[32m'C:/Users/Ravindu/Documents/My Projects/slm-fine-tune/fft'\u001b[0m\u001b[1m)\u001b[0m,\n",
       "    \u001b[33mconfig_loader\u001b[0m=\u001b[1;35mOmegaConfigLoader\u001b[0m\u001b[1m(\u001b[0m\u001b[33mconf_source\u001b[0m=\u001b[35mC\u001b[0m:\\Users\\Ravindu\\Documents\\My Projects\\slm-fine-tune\\fft\\conf, \u001b[33menv\u001b[0m=\u001b[3;35mNone\u001b[0m, \u001b[33mruntime_params\u001b[0m=\u001b[1m{\u001b[0m\u001b[1m}\u001b[0m, \u001b[33mconfig_patterns\u001b[0m=\u001b[1m{\u001b[0m\u001b[32m'catalog'\u001b[0m: \u001b[1m[\u001b[0m\u001b[32m'catalog*'\u001b[0m, \u001b[32m'catalog*/**'\u001b[0m, \u001b[32m'**/catalog*'\u001b[0m\u001b[1m]\u001b[0m, \u001b[32m'parameters'\u001b[0m: \u001b[1m[\u001b[0m\u001b[32m'parameters*'\u001b[0m, \u001b[32m'parameters*/**'\u001b[0m, \u001b[32m'**/parameters*'\u001b[0m\u001b[1m]\u001b[0m, \u001b[32m'credentials'\u001b[0m: \u001b[1m[\u001b[0m\u001b[32m'credentials*'\u001b[0m, \u001b[32m'credentials*/**'\u001b[0m, \u001b[32m'**/credentials*'\u001b[0m\u001b[1m]\u001b[0m, \u001b[32m'globals'\u001b[0m: \u001b[1m[\u001b[0m\u001b[32m'globals.yml'\u001b[0m\u001b[1m]\u001b[0m\u001b[1m}\u001b[0m, \u001b[33mbase_env\u001b[0m=\u001b[35mbase\u001b[0m\u001b[1m)\u001b[0m, \u001b[33mdefault_run_env\u001b[0m=\u001b[35mlocal\u001b[0m\u001b[1m)\u001b[0m, \u001b[33mcustom_resolvers\u001b[0m=\u001b[3;35mNone\u001b[0m\u001b[1m)\u001b[0m, \u001b[33mmerge_strategy\u001b[0m=\u001b[1m{\u001b[0m\u001b[1m}\u001b[0m\u001b[1m)\u001b[0m,\n",
       "    \u001b[33menv\u001b[0m=\u001b[3;35mNone\u001b[0m,\n",
       "    \u001b[33m_package_name\u001b[0m=\u001b[3;35mNone\u001b[0m,\n",
       "    \u001b[33m_hook_manager\u001b[0m=\u001b[1m<\u001b[0m\u001b[1;95mpluggy._manager.PluginManager\u001b[0m\u001b[39m object at \u001b[0m\u001b[1;36m0x000001D085CA6D80\u001b[0m\u001b[1m>\u001b[0m,\n",
       "    \u001b[33m_extra_params\u001b[0m=\u001b[3;35mNone\u001b[0m\n",
       "\u001b[1m)\u001b[0m"
      ]
     },
     "execution_count": 3,
     "metadata": {},
     "output_type": "execute_result"
    }
   ],
   "source": [
    "context"
   ]
  },
  {
   "cell_type": "code",
   "execution_count": 4,
   "id": "bd0c7fcd-83cf-4a44-b6da-e2d9b7047c70",
   "metadata": {},
   "outputs": [
    {
     "data": {
      "text/html": [
       "<pre style=\"white-space:pre;overflow-x:auto;line-height:normal;font-family:Menlo,'DejaVu Sans Mono',consolas,'Courier New',monospace\"></pre>\n"
      ],
      "text/plain": []
     },
     "metadata": {},
     "output_type": "display_data"
    },
    {
     "data": {
      "text/plain": [
       "\n",
       "\u001b[1m{\u001b[0m\u001b[32m'sentiments'\u001b[0m: \u001b[32m\"fft.monkey_patch.PatchedHFDataset\u001b[0m\u001b[32m(\u001b[0m\u001b[32mdataset_name\u001b[0m\u001b[32m='mteb/tweet_sentiment_extraction', \"\u001b[0m\n",
       "               \u001b[32m\"\u001b[0m\u001b[32mdataset_tags\u001b[0m\u001b[32m=\u001b[0m\u001b[32m[\u001b[0m\u001b[32m'language:en', 'size_categories:10K\u001b[0m\u001b[32m<\u001b[0m\u001b[32mn\u001b[0m\u001b[32m<100K', \"\u001b[0m\n",
       "\u001b[39m               \u001b[0m\u001b[32m\"'format:json', 'modality:text', 'library:datasets', \"\u001b[0m\n",
       "\u001b[39m               \u001b[0m\u001b[32m\"'library:pandas', 'library:mlcroissant', 'library:polars', \"\u001b[0m\n",
       "\u001b[39m               \u001b[0m\u001b[32m\"'region:us'\u001b[0m\u001b[32m]\u001b[0m\u001b[32m, \u001b[0m\u001b[32mdataset_author\u001b[0m\u001b[32m='mteb'\u001b[0m\u001b[32m)\u001b[0m\u001b[32m\"\u001b[0m\u001b[39m,\u001b[0m\n",
       "\u001b[39m \u001b[0m\u001b[32m'parameters'\u001b[0m\u001b[39m: \u001b[0m\u001b[32m\"kedro.io.memory_dataset.MemoryDataset\u001b[0m\u001b[32m(\u001b[0m\u001b[32mdata\u001b[0m\u001b[32m='<dict\u001b[0m\u001b[32m>\u001b[0m\u001b[32m'\u001b[0m\u001b[32m)\u001b[0m\u001b[32m\"\u001b[0m\u001b[1m}\u001b[0m"
      ]
     },
     "execution_count": 4,
     "metadata": {},
     "output_type": "execute_result"
    }
   ],
   "source": [
    "catalog"
   ]
  },
  {
   "cell_type": "code",
   "execution_count": 5,
   "id": "5f22b54b-0426-4bfe-bf3b-9a733a654da2",
   "metadata": {},
   "outputs": [
    {
     "data": {
      "text/html": [
       "<pre style=\"white-space:pre;overflow-x:auto;line-height:normal;font-family:Menlo,'DejaVu Sans Mono',consolas,'Courier New',monospace\"></pre>\n"
      ],
      "text/plain": []
     },
     "metadata": {},
     "output_type": "display_data"
    },
    {
     "data": {
      "text/plain": [
       "\u001b[1m<\u001b[0m\u001b[1;95mkedro.framework.session.session.KedroSession\u001b[0m\u001b[39m object at \u001b[0m\u001b[1;36m0x000001D085F95700\u001b[0m\u001b[1m>\u001b[0m"
      ]
     },
     "execution_count": 5,
     "metadata": {},
     "output_type": "execute_result"
    }
   ],
   "source": [
    "session"
   ]
  },
  {
   "cell_type": "code",
   "execution_count": 6,
   "id": "73e864ab-8267-4d11-bc84-5caf33497747",
   "metadata": {},
   "outputs": [
    {
     "data": {
      "text/html": [
       "<pre style=\"white-space:pre;overflow-x:auto;line-height:normal;font-family:Menlo,'DejaVu Sans Mono',consolas,'Courier New',monospace\"></pre>\n"
      ],
      "text/plain": []
     },
     "metadata": {},
     "output_type": "display_data"
    },
    {
     "data": {
      "text/plain": [
       "\u001b[1m{\u001b[0m\u001b[32m'__default__'\u001b[0m: \u001b[1;35mPipeline\u001b[0m\u001b[1m(\u001b[0m\u001b[1m[\u001b[0m\u001b[1m]\u001b[0m\u001b[1m)\u001b[0m\u001b[1m}\u001b[0m"
      ]
     },
     "execution_count": 6,
     "metadata": {},
     "output_type": "execute_result"
    }
   ],
   "source": [
    "pipelines"
   ]
  }
 ],
 "metadata": {
  "kernelspec": {
   "display_name": "venv-slm-fine-tune",
   "language": "python",
   "name": "python3"
  },
  "language_info": {
   "codemirror_mode": {
    "name": "ipython",
    "version": 3
   },
   "file_extension": ".py",
   "mimetype": "text/x-python",
   "name": "python",
   "nbconvert_exporter": "python",
   "pygments_lexer": "ipython3",
   "version": "3.12.9"
  }
 },
 "nbformat": 4,
 "nbformat_minor": 5
}
