{
 "cells": [
  {
   "cell_type": "code",
   "execution_count": 2,
   "id": "de4a44af-187a-4036-89bd-f269b0b587b7",
   "metadata": {},
   "outputs": [],
   "source": [
    "from transformers import AutoTokenizer, AutoModelForCausalLM, TrainingArguments, Trainer\n",
    "from datasets import load_dataset\n",
    "import torch\n",
    "from peft import LoraConfig, get_peft_model\n",
    "import numpy as np"
   ]
  },
  {
   "cell_type": "code",
   "execution_count": null,
   "id": "c8151388-d42d-47ae-9bc4-a688b53b1620",
   "metadata": {},
   "outputs": [],
   "source": [
    "# Load tokenizer and model\n",
    "model_id = \"Qwen/Qwen2.5-0.5B-Instruct\"\n",
    "tokenizer = AutoTokenizer.from_pretrained(model_id)\n",
    "model = AutoModelForCausalLM.from_pretrained(\n",
    "    model_id,\n",
    "    torch_dtype=torch.bfloat16,  # Use mixed precision for efficiency\n",
    "    device_map=\"auto\"            # Automatically choose best device setup (NOTE: remove if causes problems)\n",
    ")"
   ]
  },
  {
   "cell_type": "code",
   "execution_count": null,
   "id": "bdc9c1f4-cf04-4478-9801-ce993f8571a3",
   "metadata": {},
   "outputs": [],
   "source": [
    "# Configure model for LoRA fine-tuning (Parameter-Efficient Fine-Tuning)\n",
    "lora_config = LoraConfig(\n",
    "    r=8,                          # Rank\n",
    "    lora_alpha=16,                # Alpha parameter for LoRA scaling\n",
    "    target_modules=[\"q_proj\", \"k_proj\", \"v_proj\", \"o_proj\"],  # Attention layers to fine-tune\n",
    "    lora_dropout=0.05,\n",
    "    bias=\"none\",\n",
    "    task_type=\"CAUSAL_LM\"\n",
    ")"
   ]
  },
  {
   "cell_type": "code",
   "execution_count": null,
   "id": "9c10a3c8-4b00-4b9e-ac7e-7099a6ee5d6a",
   "metadata": {},
   "outputs": [],
   "source": [
    "model = get_peft_model(model, lora_config)\n",
    "model.print_trainable_parameters()  # Shows percentage of parameters being trained"
   ]
  },
  {
   "cell_type": "code",
   "execution_count": null,
   "id": "af8c00b2-29a8-4b58-8044-5ca61dc443c7",
   "metadata": {},
   "outputs": [],
   "source": [
    "# Load dataset\n",
    "dataset = load_dataset(\"json\", data_files=\"choreo_dataset.jsonl\")"
   ]
  },
  {
   "cell_type": "code",
   "execution_count": null,
   "id": "e6cfcfec-271c-49c1-b019-a639fcc65080",
   "metadata": {},
   "outputs": [],
   "source": [
    "# Proper formatting for Qwen models' chat template based on Ollama template\n",
    "def format_chat(instruction, input_text, output):\n",
    "    # Using Qwen's chat template structure from Ollama\n",
    "    if instruction:\n",
    "        # Use instruction as system message\n",
    "        formatted = f\"<|im_start|>system\\n{instruction}<|im_end|>\\n\"\n",
    "    else:\n",
    "        formatted = \"\"\n",
    "    \n",
    "    # Add user input (if any)\n",
    "    if input_text:\n",
    "        formatted += f\"<|im_start|>user\\n{input_text}<|im_end|>\\n\"\n",
    "    \n",
    "    # Add assistant response\n",
    "    formatted += f\"<|im_start|>assistant\\n{output}<|im_end|>\"\n",
    "    \n",
    "    return formatted"
   ]
  },
  {
   "cell_type": "code",
   "execution_count": null,
   "id": "ac3ae639-95f0-4059-a904-106c24c5aa41",
   "metadata": {},
   "outputs": [],
   "source": [
    "# Split the dataset into training and validation sets\n",
    "dataset = dataset[\"train\"].train_test_split(test_size=0.1)\n",
    "train_dataset = dataset[\"train\"]\n",
    "eval_dataset = dataset[\"test\"]"
   ]
  },
  {
   "cell_type": "code",
   "execution_count": null,
   "id": "def07fdb-b9dc-4ba1-bf21-95791c4a94b0",
   "metadata": {},
   "outputs": [],
   "source": [
    "# Preprocess and tokenize dataset\n",
    "def preprocess_function(examples):\n",
    "    # We are providing same instruction for every message, so tokenize only once (for optimization)\n",
    "    system_instruction = examples['instruction'][0] # select 1st instruction\n",
    "\n",
    "    # format each example\n",
    "    formatted_texts = []\n",
    "    for inp, out in zip(examples['input'], examples['output']):\n",
    "        # Using consistent system message with varied user inputs and assistant outputs\n",
    "        formatted = f\"<|im_start|>system\\n{system_instruction}<|im_end|>\\n<|im_start|>user\\n{inp}<|im_end|>\\n<|im_start|>assistant\\n{out}<|im_end|>\"\n",
    "        formatted_texts.append(formatted)\n",
    "    \n",
    "    tokenized = tokenizer(\n",
    "        formatted_texts,\n",
    "        padding=\"max_length\",\n",
    "        truncation=True,\n",
    "        max_length=1024,\n",
    "        return_tensors=\"pt\"\n",
    "    )\n",
    "    \n",
    "    # Create labels (for causal LM, typically identical to input_ids)\n",
    "    tokenized[\"labels\"] = tokenized[\"input_ids\"].clone()\n",
    "    \n",
    "    return tokenized"
   ]
  },
  {
   "cell_type": "code",
   "execution_count": null,
   "id": "25338a72-daab-4158-9d1c-9a3ffb229e68",
   "metadata": {},
   "outputs": [],
   "source": [
    "# Apply preprocessing to datasets\n",
    "tokenized_train_dataset = train_dataset.map(\n",
    "    preprocess_function,\n",
    "    batched=True,\n",
    "    remove_columns=train_dataset.column_names\n",
    ")\n",
    "\n",
    "tokenized_eval_dataset = eval_dataset.map(\n",
    "    preprocess_function,\n",
    "    batched=True,\n",
    "    remove_columns=eval_dataset.column_names\n",
    ")"
   ]
  },
  {
   "cell_type": "code",
   "execution_count": null,
   "id": "99c87c99-1bc6-400a-b0a8-2d595964e236",
   "metadata": {},
   "outputs": [],
   "source": [
    "# Set up training arguments\n",
    "training_args = TrainingArguments(\n",
    "    output_dir=\"./qwen_choreo_ft\",\n",
    "    per_device_train_batch_size=4,\n",
    "    per_device_eval_batch_size=4,\n",
    "    evaluation_strategy=\"epoch\",\n",
    "    save_strategy=\"epoch\",\n",
    "    num_train_epochs=3,\n",
    "    learning_rate=2e-4,\n",
    "    weight_decay=0.01,\n",
    "    fp16=True if torch.cuda.is_available() else False,\n",
    "    logging_dir=\"./logs\",\n",
    "    logging_steps=10,\n",
    "    load_best_model_at_end=True,\n",
    "    save_total_limit=3,\n",
    "    report_to=\"wandb\",\n",
    ")\n",
    "\n",
    "# Initialize Trainer\n",
    "trainer = Trainer(\n",
    "    model=model,\n",
    "    args=training_args,\n",
    "    train_dataset=tokenized_train_dataset,\n",
    "    eval_dataset=tokenized_eval_dataset,\n",
    "    tokenizer=tokenizer,\n",
    ")"
   ]
  },
  {
   "cell_type": "code",
   "execution_count": null,
   "id": "b28c522a-a8d8-4a29-b83d-113a1eb6884d",
   "metadata": {},
   "outputs": [],
   "source": [
    "# Start training\n",
    "trainer.train()"
   ]
  },
  {
   "cell_type": "code",
   "execution_count": null,
   "id": "69cd5bc0-b447-4123-9dde-8820249aaede",
   "metadata": {},
   "outputs": [],
   "source": [
    "# Save the model\n",
    "model.save_pretrained(\"./qwen_choreo_ft_final\")\n",
    "tokenizer.save_pretrained(\"./qwen_choreo_ft_final\")"
   ]
  },
  {
   "cell_type": "code",
   "execution_count": null,
   "id": "1319ba04-36e0-4dc7-86f0-8152bc6b0158",
   "metadata": {},
   "outputs": [
    {
     "ename": "NameError",
     "evalue": "name 'LoraConfig' is not defined",
     "output_type": "error",
     "traceback": [
      "\u001b[1;31m---------------------------------------------------------------------------\u001b[0m",
      "\u001b[1;31mNameError\u001b[0m                                 Traceback (most recent call last)",
      "Cell \u001b[1;32mIn[1], line 2\u001b[0m\n\u001b[0;32m      1\u001b[0m \u001b[38;5;66;03m# Configure model for LoRA fine-tuning (Parameter-Efficient Fine-Tuning)\u001b[39;00m\n\u001b[1;32m----> 2\u001b[0m lora_config \u001b[38;5;241m=\u001b[39m \u001b[43mLoraConfig\u001b[49m(\n\u001b[0;32m      3\u001b[0m     r\u001b[38;5;241m=\u001b[39m\u001b[38;5;241m8\u001b[39m,                          \u001b[38;5;66;03m# Rank\u001b[39;00m\n\u001b[0;32m      4\u001b[0m     lora_alpha\u001b[38;5;241m=\u001b[39m\u001b[38;5;241m16\u001b[39m,                \u001b[38;5;66;03m# Alpha parameter for LoRA scaling\u001b[39;00m\n\u001b[0;32m      5\u001b[0m     target_modules\u001b[38;5;241m=\u001b[39m[\u001b[38;5;124m\"\u001b[39m\u001b[38;5;124mq_proj\u001b[39m\u001b[38;5;124m\"\u001b[39m, \u001b[38;5;124m\"\u001b[39m\u001b[38;5;124mk_proj\u001b[39m\u001b[38;5;124m\"\u001b[39m, \u001b[38;5;124m\"\u001b[39m\u001b[38;5;124mv_proj\u001b[39m\u001b[38;5;124m\"\u001b[39m, \u001b[38;5;124m\"\u001b[39m\u001b[38;5;124mo_proj\u001b[39m\u001b[38;5;124m\"\u001b[39m],  \u001b[38;5;66;03m# Attention layers to fine-tune\u001b[39;00m\n\u001b[0;32m      6\u001b[0m     lora_dropout\u001b[38;5;241m=\u001b[39m\u001b[38;5;241m0.05\u001b[39m,\n\u001b[0;32m      7\u001b[0m     bias\u001b[38;5;241m=\u001b[39m\u001b[38;5;124m\"\u001b[39m\u001b[38;5;124mnone\u001b[39m\u001b[38;5;124m\"\u001b[39m,\n\u001b[0;32m      8\u001b[0m     task_type\u001b[38;5;241m=\u001b[39m\u001b[38;5;124m\"\u001b[39m\u001b[38;5;124mCAUSAL_LM\u001b[39m\u001b[38;5;124m\"\u001b[39m\n\u001b[0;32m      9\u001b[0m )\n\u001b[0;32m     10\u001b[0m model \u001b[38;5;241m=\u001b[39m get_peft_model(model, lora_config)\n\u001b[0;32m     11\u001b[0m model\u001b[38;5;241m.\u001b[39mprint_trainable_parameters()  \u001b[38;5;66;03m# Shows percentage of parameters being trained\u001b[39;00m\n",
      "\u001b[1;31mNameError\u001b[0m: name 'LoraConfig' is not defined"
     ]
    }
   ],
   "source": [
    "# Optionally, test the model with a sample\n",
    "test_input = \"What is choreo?\"\n",
    "formatted_test = f\"<|im_start|>user\\n{test_input}<|im_end|>\\n<|im_start|>assistant\\n\"\n",
    "inputs = tokenizer(formatted_test, return_tensors=\"pt\").to(model.device)\n",
    "\n",
    "# Generate response\n",
    "outputs = model.generate(\n",
    "    input_ids=inputs[\"input_ids\"],\n",
    "    max_new_tokens=100,\n",
    "    temperature=0.7,\n",
    "    top_p=0.9,\n",
    "    do_sample=True\n",
    ")\n",
    "\n",
    "# Decode and print response\n",
    "print(tokenizer.decode(outputs[0], skip_special_tokens=False))"
   ]
  },
  {
   "cell_type": "code",
   "execution_count": null,
   "id": "f1d6a3e1-e70f-4eea-a98c-222c24a87876",
   "metadata": {},
   "outputs": [],
   "source": []
  }
 ],
 "metadata": {
  "kernelspec": {
   "display_name": "Python 3 (ipykernel)",
   "language": "python",
   "name": "python3"
  },
  "language_info": {
   "codemirror_mode": {
    "name": "ipython",
    "version": 3
   },
   "file_extension": ".py",
   "mimetype": "text/x-python",
   "name": "python",
   "nbconvert_exporter": "python",
   "pygments_lexer": "ipython3",
   "version": "3.12.9"
  }
 },
 "nbformat": 4,
 "nbformat_minor": 5
}
