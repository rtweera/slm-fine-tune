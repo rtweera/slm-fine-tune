{
 "cells": [
  {
   "cell_type": "code",
   "execution_count": 1,
   "id": "044c94b0",
   "metadata": {},
   "outputs": [],
   "source": [
    "# Test merged model before GGUF conversion\n",
    "import os\n",
    "import torch\n",
    "from transformers import AutoTokenizer, AutoModelForCausalLM\n",
    "# from peft import PeftModel, PeftConfig\n",
    "from huggingface_hub import login\n",
    "from dotenv import load_dotenv"
   ]
  },
  {
   "cell_type": "code",
   "execution_count": 2,
   "id": "fffd25ba",
   "metadata": {},
   "outputs": [
    {
     "name": "stdout",
     "output_type": "stream",
     "text": [
      "The token has not been saved to the git credentials helper. Pass `add_to_git_credential=True` in this function directly or `--add-to-git-credential` if using via `huggingface-cli` if you want to set the git credential as well.\n",
      "Token is valid (permission: write).\n",
      "Your token has been saved to C:\\Users\\Ravindu\\.cache\\huggingface\\token\n",
      "Login successful\n"
     ]
    }
   ],
   "source": [
    "load_dotenv(override=True)\n",
    "\n",
    "FFT_MODEL_PATH = \"rtweera/qwen-choreo-full-ft-2025-May-18_14-33-09-final\"\n",
    "\n",
    "login(token=os.getenv('hf_token'))\n"
   ]
  },
  {
   "cell_type": "code",
   "execution_count": 3,
   "id": "00a5d991",
   "metadata": {},
   "outputs": [
    {
     "name": "stdout",
     "output_type": "stream",
     "text": [
      "Testing already pushed model from Hub...\n"
     ]
    },
    {
     "data": {
      "application/vnd.jupyter.widget-view+json": {
       "model_id": "1f6e0b8a4d474d2d9843fd7906444582",
       "version_major": 2,
       "version_minor": 0
      },
      "text/plain": [
       "config.json:   0%|          | 0.00/683 [00:00<?, ?B/s]"
      ]
     },
     "metadata": {},
     "output_type": "display_data"
    },
    {
     "name": "stderr",
     "output_type": "stream",
     "text": [
      "c:\\Users\\Ravindu\\Documents\\My Projects\\slm-fine-tune\\venv-slm-fine-tune\\Lib\\site-packages\\huggingface_hub\\file_download.py:157: UserWarning: `huggingface_hub` cache-system uses symlinks by default to efficiently store duplicated files but your machine does not support them in C:\\Users\\Ravindu\\.cache\\huggingface\\hub\\models--rtweera--qwen-choreo-full-ft-2025-May-18_14-33-09-final. Caching files will still work but in a degraded version that might require more space on your disk. This warning can be disabled by setting the `HF_HUB_DISABLE_SYMLINKS_WARNING` environment variable. For more details, see https://huggingface.co/docs/huggingface_hub/how-to-cache#limitations.\n",
      "To support symlinks on Windows, you either need to activate Developer Mode or to run Python as an administrator. In order to see activate developer mode, see this article: https://docs.microsoft.com/en-us/windows/apps/get-started/enable-your-device-for-development\n",
      "  warnings.warn(message)\n"
     ]
    },
    {
     "data": {
      "application/vnd.jupyter.widget-view+json": {
       "model_id": "f0ed0656ea254ce9b3be42528618ee1f",
       "version_major": 2,
       "version_minor": 0
      },
      "text/plain": [
       "model.safetensors:   0%|          | 0.00/988M [00:00<?, ?B/s]"
      ]
     },
     "metadata": {},
     "output_type": "display_data"
    },
    {
     "data": {
      "application/vnd.jupyter.widget-view+json": {
       "model_id": "72d11833e53943a1ba07d7217127a8ca",
       "version_major": 2,
       "version_minor": 0
      },
      "text/plain": [
       "generation_config.json:   0%|          | 0.00/242 [00:00<?, ?B/s]"
      ]
     },
     "metadata": {},
     "output_type": "display_data"
    },
    {
     "data": {
      "application/vnd.jupyter.widget-view+json": {
       "model_id": "8cd52501a6cf4ba4b1f9c05f85856439",
       "version_major": 2,
       "version_minor": 0
      },
      "text/plain": [
       "tokenizer_config.json:   0%|          | 0.00/7.34k [00:00<?, ?B/s]"
      ]
     },
     "metadata": {},
     "output_type": "display_data"
    },
    {
     "data": {
      "application/vnd.jupyter.widget-view+json": {
       "model_id": "3cf743ead70a40ba8295ce56c9930680",
       "version_major": 2,
       "version_minor": 0
      },
      "text/plain": [
       "vocab.json:   0%|          | 0.00/2.78M [00:00<?, ?B/s]"
      ]
     },
     "metadata": {},
     "output_type": "display_data"
    },
    {
     "data": {
      "application/vnd.jupyter.widget-view+json": {
       "model_id": "a6e5204b193149fd9acff30ebd6125cc",
       "version_major": 2,
       "version_minor": 0
      },
      "text/plain": [
       "merges.txt:   0%|          | 0.00/1.67M [00:00<?, ?B/s]"
      ]
     },
     "metadata": {},
     "output_type": "display_data"
    },
    {
     "data": {
      "application/vnd.jupyter.widget-view+json": {
       "model_id": "47984dcb64c94d2487ad2e6ca8cfa283",
       "version_major": 2,
       "version_minor": 0
      },
      "text/plain": [
       "tokenizer.json:   0%|          | 0.00/11.4M [00:00<?, ?B/s]"
      ]
     },
     "metadata": {},
     "output_type": "display_data"
    },
    {
     "data": {
      "application/vnd.jupyter.widget-view+json": {
       "model_id": "66315f323eef4e1a91a187a4ef10ce3e",
       "version_major": 2,
       "version_minor": 0
      },
      "text/plain": [
       "added_tokens.json:   0%|          | 0.00/605 [00:00<?, ?B/s]"
      ]
     },
     "metadata": {},
     "output_type": "display_data"
    },
    {
     "data": {
      "application/vnd.jupyter.widget-view+json": {
       "model_id": "dd68689e8f6d450a86c8fc826a411cd5",
       "version_major": 2,
       "version_minor": 0
      },
      "text/plain": [
       "special_tokens_map.json:   0%|          | 0.00/613 [00:00<?, ?B/s]"
      ]
     },
     "metadata": {},
     "output_type": "display_data"
    },
    {
     "name": "stdout",
     "output_type": "stream",
     "text": [
      "Successfully loaded fft model.\n"
     ]
    }
   ],
   "source": [
    "# Test the pushed model\n",
    "print(\"Testing already pushed model from Hub...\")\n",
    "try:\n",
    "    merged_model = AutoModelForCausalLM.from_pretrained(\n",
    "       FFT_MODEL_PATH,\n",
    "        torch_dtype=torch.bfloat16,\n",
    "        device_map=\"auto\"\n",
    "    )\n",
    "    tokenizer = AutoTokenizer.from_pretrained(FFT_MODEL_PATH)\n",
    "    print(\"Successfully loaded fft model.\")\n",
    "except Exception as e:\n",
    "    print(f\"Could not load fft model: {e}\")\n"
   ]
  },
  {
   "cell_type": "code",
   "execution_count": 4,
   "id": "9d732f18",
   "metadata": {},
   "outputs": [],
   "source": [
    "\n",
    "# Test the model\n",
    "def test_model(prompt, max_tokens=100):\n",
    "    print(f\"\\nTesting with prompt: '{prompt}'\")\n",
    "    formatted_test = f\"<|im_start|>user\\n{prompt}<|im_end|>\\n<|im_start|>assistant\\n\"\n",
    "    inputs = tokenizer(formatted_test, return_tensors=\"pt\").to(merged_model.device)\n",
    "    \n",
    "    print(\"Generating response...\")\n",
    "    outputs = merged_model.generate(\n",
    "        input_ids=inputs[\"input_ids\"],\n",
    "        max_new_tokens=max_tokens,\n",
    "        temperature=0.7,\n",
    "        top_p=0.9,\n",
    "        do_sample=True\n",
    "    )\n",
    "    \n",
    "    response = tokenizer.decode(outputs[0], skip_special_tokens=False)\n",
    "    print(\"\\nModel response:\")\n",
    "    print(response)\n",
    "    \n",
    "    # Check if response contains end token\n",
    "    if \"<|im_end|>\" in response:\n",
    "        print(\"\\n✅ Response properly terminated with <|im_end|> token\")\n",
    "    else:\n",
    "        print(\"\\n❌ Response did NOT terminate with <|im_end|> token\")\n",
    "    \n",
    "    return response\n"
   ]
  },
  {
   "cell_type": "code",
   "execution_count": 5,
   "id": "66df3ba5",
   "metadata": {},
   "outputs": [
    {
     "name": "stdout",
     "output_type": "stream",
     "text": [
      "\n",
      "Testing with prompt: 'What is your name?'\n",
      "Generating response...\n"
     ]
    },
    {
     "name": "stderr",
     "output_type": "stream",
     "text": [
      "The attention mask is not set and cannot be inferred from input because pad token is same as eos token. As a consequence, you may observe unexpected behavior. Please pass your input's `attention_mask` to obtain reliable results.\n"
     ]
    },
    {
     "name": "stdout",
     "output_type": "stream",
     "text": [
      "\n",
      "Model response:\n",
      "<|im_start|>user\n",
      "What is your name?<|im_end|>\n",
      "<|im_start|>assistant\n",
      "My name is Claude. How can I assist you today?<|im_end|>\n",
      "\n",
      "✅ Response properly terminated with <|im_end|> token\n",
      "\n",
      "Testing with prompt: 'How do I configure my applications to scale automatically?'\n",
      "Generating response...\n",
      "\n",
      "Model response:\n",
      "<|im_start|>user\n",
      "How do I configure my applications to scale automatically?<|im_end|>\n",
      "<|im_start|>assistant\n",
      "To configure your applications to scale automatically, you can follow these steps:\\n\\n### Step 1: Identify Your Applications\\nFirst, identify the applications that are dependent on external resources. These could be databases, servers, or other services.\\n\\n### Step 2: Determine Resource Requirements\\nFor each dependent application, determine how much resource (CPU, memory, disk space) it requires at peak usage. This is crucial for determining the scaling strategy.\\n\\n### Step 3: Choose a\n",
      "\n",
      "✅ Response properly terminated with <|im_end|> token\n",
      "\n",
      "Testing with prompt: 'Tell me a short joke'\n",
      "Generating response...\n",
      "\n",
      "Model response:\n",
      "<|im_start|>user\n",
      "Tell me a short joke<|im_end|>\n",
      "<|im_start|>assistant\n",
      "Why don't scientists trust atoms? Because they make up everything.<|im_end|>\n",
      "\n",
      "✅ Response properly terminated with <|im_end|> token\n",
      "\n",
      "Testing with prompt: 'What are the steps to deploy a container?'\n",
      "Generating response...\n",
      "\n",
      "Model response:\n",
      "<|im_start|>user\n",
      "What are the steps to deploy a container?<|im_end|>\n",
      "<|im_start|>assistant\n",
      "Deploying a container involves several key steps that can be broken down into manageable phases. Here is a comprehensive guide on how to deploy containers:\n",
      "1. **Prepare Your Environment:**\n",
      "   - Ensure your development environment has all necessary dependencies installed.\n",
      "   - Set up a Dockerfile if you're using a custom build image.\n",
      "   - Make sure your local repository (e.g., GitHub, GitLab) contains a `Dockerfile` or other instructions for building the application.\n",
      "\n",
      "2. **Create a\n",
      "\n",
      "✅ Response properly terminated with <|im_end|> token\n"
     ]
    }
   ],
   "source": [
    "\n",
    "# Test with a variety of prompts\n",
    "test_prompts = [\n",
    "    \"What is your name?\",\n",
    "    \"How do I configure my applications to scale automatically?\",\n",
    "    \"Tell me a short joke\",\n",
    "    \"What are the steps to deploy a container?\"\n",
    "]\n",
    "\n",
    "for prompt in test_prompts:\n",
    "    test_model(prompt)\n"
   ]
  },
  {
   "cell_type": "code",
   "execution_count": 7,
   "id": "9e63a7b1",
   "metadata": {},
   "outputs": [
    {
     "name": "stdout",
     "output_type": "stream",
     "text": [
      "\n",
      "Testing with prompt: 'What is choreo by wso2'\n",
      "Generating response...\n",
      "\n",
      "Model response:\n",
      "<|im_start|>user\n",
      "What is choreo by wso2<|im_end|>\n",
      "<|im_start|>assistant\n",
      "Choreo is a managed service for orchestrating and managing containerized applications. It provides orchestration capabilities, which allow you to manage multiple containers in a single console interface using the WSO2 platform. Choreo supports various types of orchestration, including:\n",
      "\n",
      "1. **Single Container Orchestration**: You can define and run a single application instance with specific configurations.\n",
      "2. **Multi-Container Orchestration**: You can orchestrate multiple applications across different environments or clusters within your organization.\n",
      "\n",
      "Ch\n",
      "\n",
      "✅ Response properly terminated with <|im_end|> token\n"
     ]
    },
    {
     "data": {
      "text/plain": [
       "'<|im_start|>user\\nWhat is choreo by wso2<|im_end|>\\n<|im_start|>assistant\\nChoreo is a managed service for orchestrating and managing containerized applications. It provides orchestration capabilities, which allow you to manage multiple containers in a single console interface using the WSO2 platform. Choreo supports various types of orchestration, including:\\r\\n\\r\\n1. **Single Container Orchestration**: You can define and run a single application instance with specific configurations.\\r\\n2. **Multi-Container Orchestration**: You can orchestrate multiple applications across different environments or clusters within your organization.\\r\\n\\r\\nCh'"
      ]
     },
     "execution_count": 7,
     "metadata": {},
     "output_type": "execute_result"
    }
   ],
   "source": [
    "test_model(\"What is choreo by wso2\")"
   ]
  },
  {
   "cell_type": "code",
   "execution_count": null,
   "id": "bfa8b80b",
   "metadata": {},
   "outputs": [],
   "source": []
  }
 ],
 "metadata": {
  "kernelspec": {
   "display_name": "venv-slm-fine-tune",
   "language": "python",
   "name": "python3"
  },
  "language_info": {
   "codemirror_mode": {
    "name": "ipython",
    "version": 3
   },
   "file_extension": ".py",
   "mimetype": "text/x-python",
   "name": "python",
   "nbconvert_exporter": "python",
   "pygments_lexer": "ipython3",
   "version": "3.12.9"
  }
 },
 "nbformat": 4,
 "nbformat_minor": 5
}
